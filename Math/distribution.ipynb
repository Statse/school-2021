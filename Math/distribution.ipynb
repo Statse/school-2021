{
 "cells": [
  {
   "cell_type": "code",
   "execution_count": null,
   "source": [
    "import numpy as np\r\n",
    "import pandas as pd\r\n",
    "import matplotlib.pyplot  as plt\r\n",
    "\r\n",
    "def gaussian(x, mu, sigma):\r\n",
    "    return 1/(np.sqrt(2.*np.pi)*sigma)*np.exp(-np.power((x - mu)/sigma, 2.)/2)\r\n",
    "#results = np.zeros([k,n])\r\n",
    "mu = 0\r\n",
    "sigma = 1\r\n",
    "n = 10 #increase this value to 100, 1000, 10000 etc\\r\\n\",\r\n",
    "s = np.random.normal(mu, sigma, n)\r\n",
    "x = np.arange(-3,4,.1)\r\n",
    "print('Random values are ',s)\r\n",
    "fig  = plt.figure(figsize=(9,5), dpi = 100)\r\n",
    "plt.xlabel('Value bins')\r\n",
    "plt.ylabel('Count')\r\n",
    "plt.grid(True)\r\n",
    "plt.show()\r\n"
   ],
   "outputs": [],
   "metadata": {}
  }
 ],
 "metadata": {
  "orig_nbformat": 4,
  "language_info": {
   "name": "python"
  }
 },
 "nbformat": 4,
 "nbformat_minor": 2
}