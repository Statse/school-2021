{
 "cells": [
  {
   "cell_type": "code",
   "execution_count": 7,
   "source": [
    "import pandas as pd\r\n",
    "import matplotlib.pyplot  as plt\r\n",
    "import numpy as np\r\n",
    "\r\n",
    "\r\n",
    "data = pd.read_csv(\"../../TieliikenneAvoinData_5_14.csv\", \r\n",
    "encoding = 'unicode_escape', \r\n",
    "engine ='python', \r\n",
    "error_bad_lines=False, \r\n",
    "delimiter=';', \r\n",
    "usecols=[\"ensirekisterointipvm\"])\r\n",
    "print(\"\")\r\n",
    "# data = pd.read_csv(\"./TieliikenneAvoinData_5_14.csv\", \r\n",
    "# nrows=10, encoding = 'unicode_escape', \r\n",
    "# engine ='python', \r\n",
    "# error_bad_lines=False, \r\n",
    "# delimiter=';')\r\n",
    "\r\n",
    "data.columns"
   ],
   "outputs": [
    {
     "output_type": "stream",
     "name": "stderr",
     "text": [
      "C:\\Users\\aleks\\AppData\\Local\\Packages\\PythonSoftwareFoundation.Python.3.9_qbz5n2kfra8p0\\LocalCache\\local-packages\\Python39\\site-packages\\IPython\\core\\interactiveshell.py:3441: FutureWarning: The error_bad_lines argument has been deprecated and will be removed in a future version.\n",
      "\n",
      "\n",
      "  exec(code_obj, self.user_global_ns, self.user_ns)\n"
     ]
    },
    {
     "output_type": "stream",
     "name": "stdout",
     "text": [
      "\n"
     ]
    },
    {
     "output_type": "execute_result",
     "data": {
      "text/plain": [
       "Index(['ensirekisterointipvm'], dtype='object')"
      ]
     },
     "metadata": {},
     "execution_count": 7
    }
   ],
   "metadata": {}
  },
  {
   "cell_type": "markdown",
   "source": [
    "Problem / Question\r\n",
    "a) How many registered vehicles there are in Finland?\r\n",
    "b) What are the vehicle types and number of vehicles per type?\r\n",
    "c) What is the most common car brand (M1 class) in Finland?\r\n",
    "d) What is the average engine capacity of M1 class cars?\r\n",
    "e) What is the most common number of cylinders?\r\n",
    "f) Examine the fraction of manual vs. automatic transmission vs. registration year\r\n",
    "g) Find out something else important or interesting!\r\n",
    "\r\n",
    "\r\n",
    "data columns: \r\n",
    "'ajoneuvoluokka', 'ensirekisterointipvm', 'ajoneuvoryhma',\r\n",
    "'ajoneuvonkaytto', 'variantti', 'versio', 'kayttoonottopvm', 'vari',\r\n",
    "'ovienLukumaara', 'korityyppi', 'ohjaamotyyppi', 'istumapaikkojenLkm',\r\n",
    "'omamassa', 'teknSuurSallKokmassa', 'tieliikSuurSallKokmassa',\r\n",
    "'ajonKokPituus', 'ajonLeveys', 'ajonKorkeus', 'kayttovoima',\r\n",
    "'iskutilavuus', 'suurinNettoteho', 'sylintereidenLkm', 'ahdin',\r\n",
    "'sahkohybridi', 'sahkohybridinluokka', 'merkkiSelvakielinen',\r\n",
    "'mallimerkinta', 'vaihteisto', 'vaihteidenLkm', 'kaupallinenNimi',\r\n",
    "'voimanvalJaTehostamistapa', 'tyyppihyvaksyntanro',\r\n",
    "'yksittaisKayttovoima', 'kunta', 'Co2', 'matkamittarilukema',\r\n",
    "'valmistenumero2', 'jarnro'"
   ],
   "metadata": {}
  },
  {
   "cell_type": "code",
   "execution_count": 8,
   "source": [
    "import pandas as pd\r\n",
    "import matplotlib.pyplot  as plt\r\n",
    "import numpy as np\r\n",
    "\r\n",
    "# a) How many registered vehicles there are in Finland?\r\n",
    "data\r\n",
    "\r\n",
    "arr = np.array(data)\r\n",
    "\r\n",
    "rows = arr.shape[0]\r\n",
    "\r\n",
    "print(\"There are \",rows, \" registered vehicles in finland\")\r\n"
   ],
   "outputs": [
    {
     "output_type": "stream",
     "name": "stdout",
     "text": [
      "There are  5138035  registered vehicles in finland\n"
     ]
    }
   ],
   "metadata": {}
  },
  {
   "cell_type": "code",
   "execution_count": 4,
   "source": [
    "import pandas as pd\r\n",
    "import matplotlib.pyplot  as plt\r\n",
    "import numpy as np\r\n",
    "\r\n",
    "# b) What are the vehicle types and number of vehicles per type?\r\n",
    "\r\n",
    "data = pd.read_csv(\"../../TieliikenneAvoinData_5_14.csv\", \r\n",
    "encoding = 'unicode_escape', \r\n",
    "engine ='python', \r\n",
    "error_bad_lines=False, \r\n",
    "delimiter=';', \r\n",
    "usecols=[\"ajoneuvoluokka\"])\r\n",
    "\r\n",
    "#print all the vehicle classess\r\n",
    "data.groupby(['ajoneuvoluokka']).size()"
   ],
   "outputs": [
    {
     "output_type": "stream",
     "name": "stderr",
     "text": [
      "C:\\Users\\aleks\\AppData\\Local\\Packages\\PythonSoftwareFoundation.Python.3.9_qbz5n2kfra8p0\\LocalCache\\local-packages\\Python39\\site-packages\\IPython\\core\\interactiveshell.py:3441: FutureWarning: The error_bad_lines argument has been deprecated and will be removed in a future version.\n",
      "\n",
      "\n",
      "  exec(code_obj, self.user_global_ns, self.user_ns)\n"
     ]
    },
    {
     "output_type": "execute_result",
     "data": {
      "text/plain": [
       "ajoneuvoluokka\n",
       "C1          19\n",
       "C2           1\n",
       "C3           1\n",
       "KNP          2\n",
       "L1       35796\n",
       "L1e      69833\n",
       "L2        1514\n",
       "L2e       1577\n",
       "L3       79194\n",
       "L3e      58616\n",
       "L4         974\n",
       "L4e        107\n",
       "L5         250\n",
       "L5e        377\n",
       "L6e       5517\n",
       "L7e       6164\n",
       "LTR      11492\n",
       "M1     2629186\n",
       "M1G      98844\n",
       "M2        3129\n",
       "M2G          6\n",
       "M3        7320\n",
       "MA       72577\n",
       "MTK      42577\n",
       "MUU     463035\n",
       "N1      283927\n",
       "N1G      48060\n",
       "N2       36548\n",
       "N2G       5525\n",
       "N3       49336\n",
       "N3G       2795\n",
       "O1      750157\n",
       "O2      179897\n",
       "O3         647\n",
       "O4       53623\n",
       "T        49120\n",
       "T1       33797\n",
       "T2        3466\n",
       "T3       52800\n",
       "T4          32\n",
       "T5         197\n",
       "dtype: int64"
      ]
     },
     "metadata": {},
     "execution_count": 4
    }
   ],
   "metadata": {}
  },
  {
   "cell_type": "code",
   "execution_count": 9,
   "source": [
    "import pandas as pd\r\n",
    "import matplotlib.pyplot  as plt\r\n",
    "import numpy as np\r\n",
    "\r\n",
    "# c) What is the most common car brand (M1 class) in Finland?\r\n",
    "# answer: toyota\r\n",
    "\r\n",
    "import pandas as pd\r\n",
    "data = pd.read_csv(\"../../TieliikenneAvoinData_5_14.csv\", \r\n",
    "encoding = 'unicode_escape', \r\n",
    "engine ='python', \r\n",
    "error_bad_lines=False, \r\n",
    "delimiter=';', \r\n",
    "# nrows=100,\r\n",
    "usecols=[\"ajoneuvoluokka\", \"merkkiSelvakielinen\"])\r\n",
    "\r\n",
    "m1 = data[(data.ajoneuvoluokka == \"M1\")]\r\n",
    "\r\n",
    "selectedData = m1.groupby(['merkkiSelvakielinen', 'ajoneuvoluokka'])['ajoneuvoluokka'].size()\r\n",
    "selectedData.sort_values(ascending=False)\r\n"
   ],
   "outputs": [
    {
     "output_type": "execute_result",
     "data": {
      "text/plain": [
       "merkkiSelvakielinen  ajoneuvoluokka\n",
       "Toyota               M1                368525\n",
       "Volvo                M1                208010\n",
       "Volkswagen           M1                188139\n",
       "Ford                 M1                187163\n",
       "Mercedes-Benz        M1                176542\n",
       "                                        ...  \n",
       "Giottiline srl       M1                     1\n",
       "Glas                 M1                     1\n",
       "Graham               M1                     1\n",
       "Gutbrod              M1                     1\n",
       "toyota               M1                     1\n",
       "Name: ajoneuvoluokka, Length: 967, dtype: int64"
      ]
     },
     "metadata": {},
     "execution_count": 9
    }
   ],
   "metadata": {}
  },
  {
   "cell_type": "code",
   "execution_count": 22,
   "source": [
    "import pandas as pd\r\n",
    "import matplotlib.pyplot  as plt\r\n",
    "import numpy as np\r\n",
    "\r\n",
    "# d) What is the average engine capacity of M1 class cars?\r\n",
    "data = pd.read_csv(\"../../TieliikenneAvoinData_5_14.csv\", \r\n",
    "encoding = 'unicode_escape', \r\n",
    "engine ='python', \r\n",
    "error_bad_lines=False, \r\n",
    "delimiter=';', \r\n",
    "nrows=1000,\r\n",
    "usecols=[\"ajoneuvoluokka\", \"voimanvalJaTehostamistapa\"])\r\n",
    "\r\n",
    "print(\"avarage engine capacity\", data[(data['ajoneuvoluokka'] == 'M1')][\"voimanvalJaTehostamistapa\"].mean())\r\n"
   ],
   "outputs": [
    {
     "output_type": "stream",
     "name": "stdout",
     "text": [
      "avarage engine capacity 5.0\n"
     ]
    },
    {
     "output_type": "stream",
     "name": "stderr",
     "text": [
      "C:\\Users\\aleks\\AppData\\Local\\Packages\\PythonSoftwareFoundation.Python.3.9_qbz5n2kfra8p0\\LocalCache\\local-packages\\Python39\\site-packages\\IPython\\core\\interactiveshell.py:3441: FutureWarning: The error_bad_lines argument has been deprecated and will be removed in a future version.\n",
      "\n",
      "\n",
      "  exec(code_obj, self.user_global_ns, self.user_ns)\n"
     ]
    }
   ],
   "metadata": {}
  },
  {
   "cell_type": "code",
   "execution_count": 6,
   "source": [
    "import pandas as pd\r\n",
    "import matplotlib.pyplot  as plt\r\n",
    "import numpy as np\r\n",
    "\r\n",
    "# e) What is the most common number of cylinders?\r\n",
    "data = pd.read_csv(\"../../TieliikenneAvoinData_5_14.csv\", \r\n",
    "encoding = 'unicode_escape', \r\n",
    "engine ='python', \r\n",
    "error_bad_lines=False, \r\n",
    "delimiter=';', \r\n",
    "usecols=[\"sylintereidenLkm\"])\r\n",
    "\r\n",
    "print(\"Median of cylinders: \",data.median())"
   ],
   "outputs": [
    {
     "output_type": "stream",
     "name": "stdout",
     "text": [
      "Median of cylinders:  sylintereidenLkm    4.0\n",
      "dtype: float64\n"
     ]
    }
   ],
   "metadata": {}
  },
  {
   "cell_type": "code",
   "execution_count": 51,
   "source": [
    "import pandas as pd\r\n",
    "import matplotlib.pyplot  as plt\r\n",
    "import numpy as np\r\n",
    "\r\n",
    "# f) Examine the fraction of manual vs. automatic transmission vs. registration year\r\n",
    "data = pd.read_csv(\"../../TieliikenneAvoinData_5_14.csv\", \r\n",
    "encoding = 'unicode_escape', \r\n",
    "engine ='python', \r\n",
    "error_bad_lines=False, \r\n",
    "delimiter=';', \r\n",
    "# nrows=100,\r\n",
    "usecols=[\"vaihteisto\", \"ensirekisterointipvm\"])\r\n",
    "\r\n",
    "# https://stackoverflow.com/questions/29370057/select-dataframe-rows-between-two-dates\r\n",
    "# mask = (data['ensirekisterointipvm'] > '2010-01-01') & (data['ensirekisterointipvm'] <= '2011-01-01')\r\n",
    "# print(mask)\r\n",
    "print(\"Manual vs automatic in 2000\")\r\n",
    "print(\"manual=\",data[(data['vaihteisto'] == '1') & (data['ensirekisterointipvm'] > '2000-01-01') & (data['ensirekisterointipvm'] < '2001-01-01')][\"vaihteisto\"].count()) # & (data['ensirekisterointipvm'] > '2000-01-01') & (data['ensirekisterointipvm'] < '2001-01-01')\r\n",
    "print(\"automatic\",data[(data['vaihteisto'] == '2') & (data['ensirekisterointipvm'] > '2000-01-01') & (data['ensirekisterointipvm'] < '2001-01-01')][\"vaihteisto\"].count()) #  & (data['ensirekisterointipvm'] > '2000-01-01') & (data['ensirekisterointipvm'] < '2001-01-01')\r\n",
    "\r\n",
    "print(\"same thing without year\")\r\n",
    "print(data[(data['vaihteisto'] == '1')].groupby(['vaihteisto'])['vaihteisto'].size())\r\n",
    "print(data[(data['vaihteisto'] == '2')].groupby(['vaihteisto'])['vaihteisto'].size())"
   ],
   "outputs": [
    {
     "output_type": "stream",
     "name": "stderr",
     "text": [
      "C:\\Users\\aleks\\AppData\\Local\\Packages\\PythonSoftwareFoundation.Python.3.9_qbz5n2kfra8p0\\LocalCache\\local-packages\\Python39\\site-packages\\IPython\\core\\interactiveshell.py:3441: FutureWarning: The error_bad_lines argument has been deprecated and will be removed in a future version.\n",
      "\n",
      "\n",
      "  exec(code_obj, self.user_global_ns, self.user_ns)\n"
     ]
    },
    {
     "output_type": "stream",
     "name": "stdout",
     "text": [
      "Manual vs automatic in 2000\n",
      "manual= 2157\n",
      "automatic 460\n",
      "same thing without year\n",
      "vaihteisto\n",
      "1    926701\n",
      "Name: vaihteisto, dtype: int64\n",
      "vaihteisto\n",
      "2    853584\n",
      "Name: vaihteisto, dtype: int64\n"
     ]
    }
   ],
   "metadata": {}
  },
  {
   "cell_type": "code",
   "execution_count": 37,
   "source": [
    "import pandas as pd\r\n",
    "import matplotlib.pyplot  as plt\r\n",
    "import numpy as np\r\n",
    "\r\n",
    "# g) Find out something else important or interesting!\r\n",
    "\r\n",
    "data = pd.read_csv(\"../../TieliikenneAvoinData_5_14.csv\", \r\n",
    "encoding = 'unicode_escape', \r\n",
    "engine ='python', \r\n",
    "error_bad_lines=False, \r\n",
    "delimiter=';', \r\n",
    "# usecols=[\"ajoneuvoluokka\", \"co2\", \"ensirekisterointipvm\"]\r\n",
    ")\r\n",
    "\r\n",
    "print(\"differences between CO2 emissions with M1 class cars in 2000 and 2020\")\r\n",
    "print(\"2000:\",data[(data['ajoneuvoluokka'] == 'M1') & (data['ensirekisterointipvm'] > '2000-01-01') & (data['ensirekisterointipvm'] < '2001-01-01')][\"Co2\"].mean(skipna=True), \"Co2 mean\")\r\n",
    "print(\"2020:\",data[(data['ajoneuvoluokka'] == 'M1') & (data['ensirekisterointipvm'] > '2020-01-01') & (data['ensirekisterointipvm'] < '2021-01-01')][\"Co2\"].mean(skipna=True), \"Co2 mean\")  \r\n"
   ],
   "outputs": [
    {
     "output_type": "stream",
     "name": "stdout",
     "text": [
      "differences between CO2 emissions with M1 class cars in 2000 and 2020\n",
      "2000: 181.07551355223328 Co2 mean\n",
      "2020: 124.23042180902891 Co2 mean\n"
     ]
    }
   ],
   "metadata": {}
  },
  {
   "cell_type": "markdown",
   "source": [
    "5.\r\n",
    "a) Histogram of 15 most common vehicle type\r\n",
    "b) Histogram of number of cars per manufacturer\r\n",
    "c) Numerical answer to other questions"
   ],
   "metadata": {}
  },
  {
   "cell_type": "code",
   "execution_count": 55,
   "source": [
    "# a) Histogram of 15 most common vehicle type\r\n",
    "import pandas as pd\r\n",
    "import matplotlib.pyplot  as plt\r\n",
    "import numpy as np\r\n",
    "\r\n",
    "data = pd.read_csv(\"../../TieliikenneAvoinData_5_14.csv\", \r\n",
    "encoding = 'unicode_escape', \r\n",
    "engine ='python', \r\n",
    "error_bad_lines=False, \r\n",
    "delimiter=';', \r\n",
    "# nrows=100,\r\n",
    "usecols=[\"ajoneuvoluokka\", \"merkkiSelvakielinen\"])\r\n",
    "\r\n",
    "cartypes = data.groupby(['ajoneuvoluokka'])['ajoneuvoluokka'].size()\r\n",
    "cartypes.sort_values(ascending=False).iloc[:15].max()\r\n",
    "\r\n",
    "plt.figure(num=None, figsize=(18, 9), dpi=70, facecolor='w', edgecolor='k')\r\n",
    "plt.bar(cartypes.index,cartypes.values)\r\n",
    "plt.show()\r\n",
    "\r\n",
    "\r\n",
    "brands = data.groupby(['merkkiSelvakielinen'])['merkkiSelvakielinen'].size()\r\n",
    "brands.sort_values(ascending=False).iloc[:15].max()\r\n",
    "\r\n",
    "plt.figure(num=None, figsize=(18, 9), dpi=70, facecolor='w', edgecolor='k')\r\n",
    "plt.bar(brands.index,brands.values)\r\n",
    "plt.show()\r\n",
    "\r\n",
    "\r\n",
    "#numerical answers\r\n",
    "print(\"car types: \", cartypes)\r\n",
    "print(\"brands: \", brands)"
   ],
   "outputs": [
    {
     "output_type": "display_data",
     "data": {
      "image/png": "[encoded data removed]",
      "text/plain": [
       "<Figure size 1260x630 with 1 Axes>"
      ]
     },
     "metadata": {}
    },
    {
     "output_type": "display_data",
     "data": {
      "image/png": "[encoded data removed]",
      "text/plain": [
       "<Figure size 1260x630 with 1 Axes>"
      ]
     },
     "metadata": {}
    },
    {
     "output_type": "stream",
     "name": "stdout",
     "text": [
      "car types:  ajoneuvoluokka\n",
      "C1          19\n",
      "C2           1\n",
      "C3           1\n",
      "KNP          2\n",
      "L1       35796\n",
      "L1e      69833\n",
      "L2        1514\n",
      "L2e       1577\n",
      "L3       79194\n",
      "L3e      58616\n",
      "L4         974\n",
      "L4e        107\n",
      "L5         250\n",
      "L5e        377\n",
      "L6e       5517\n",
      "L7e       6164\n",
      "LTR      11492\n",
      "M1     2629186\n",
      "M1G      98844\n",
      "M2        3129\n",
      "M2G          6\n",
      "M3        7320\n",
      "MA       72577\n",
      "MTK      42577\n",
      "MUU     463035\n",
      "N1      283927\n",
      "N1G      48060\n",
      "N2       36548\n",
      "N2G       5525\n",
      "N3       49336\n",
      "N3G       2795\n",
      "O1      750157\n",
      "O2      179897\n",
      "O3         647\n",
      "O4       53623\n",
      "T        49120\n",
      "T1       33797\n",
      "T2        3466\n",
      "T3       52800\n",
      "T4          32\n",
      "T5         197\n",
      "Name: ajoneuvoluokka, dtype: int64\n",
      "brands:  merkkiSelvakielinen\n",
      "-                     3\n",
      "0000 HFR              1\n",
      "0000 KARLAVAGNEN      1\n",
      "0000 NOR SLEP         1\n",
      "01                    1\n",
      "                   ... \n",
      "Övriga              171\n",
      "Övrika                3\n",
      "Özsan Treyler        13\n",
      "Ømi                   1\n",
      "övriga                1\n",
      "Name: merkkiSelvakielinen, Length: 15950, dtype: int64\n"
     ]
    }
   ],
   "metadata": {}
  }
 ],
 "metadata": {
  "orig_nbformat": 4,
  "language_info": {
   "name": "python",
   "version": "3.9.7",
   "mimetype": "text/x-python",
   "codemirror_mode": {
    "name": "ipython",
    "version": 3
   },
   "pygments_lexer": "ipython3",
   "nbconvert_exporter": "python",
   "file_extension": ".py"
  },
  "kernelspec": {
   "name": "python3",
   "display_name": "Python 3.9.7 64-bit (windows store)"
  },
  "interpreter": {
   "hash": "a3a414d9c9a2ef5caa6e540b8b29aac8b582a9a1bd1c746cfbbc1702290c38c1"
  }
 },
 "nbformat": 4,
 "nbformat_minor": 2
}