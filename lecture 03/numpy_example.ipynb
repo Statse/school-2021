{
 "cells": [
  {
   "cell_type": "markdown",
   "source": [
    "Numpy examples\r\n",
    "● Define random matrix of numbers with 4 columns and 3 rows\r\n",
    "○ Calculate the average of rows and average of columns\r\n",
    "○ Set one matrix element to any random number\r\n",
    "○ Set one matrix element to nan (not a number)\r\n",
    "○ Calculate row and column averages again, what needs to be changed?\r\n",
    "○ Use for-loop to read and print every row of matrix (one-by-one)\r\n",
    "○ Use two for loops to read and print every element of matrix\r\n",
    "● Define 2 random matrices of numbers with 8 columns and 5 rows\r\n",
    "○ Calculate the product of matrices\r\n",
    "○ What are the dimensions of product?\r\n",
    "○ Multiple product matrix by 10"
   ],
   "metadata": {}
  }
 ],
 "metadata": {
  "orig_nbformat": 4,
  "language_info": {
   "name": "python"
  }
 },
 "nbformat": 4,
 "nbformat_minor": 2
}