{
 "cells": [
  {
   "cell_type": "code",
   "execution_count": null,
   "source": [
    "import pandas as pd\r\n",
    "\r\n",
    "data = pd.read_csv(\"../data/london_crimes.csv\")\r\n",
    "print(data.columns)\r\n",
    "\r\n",
    "data.info()"
   ],
   "outputs": [],
   "metadata": {}
  },
  {
   "cell_type": "code",
   "execution_count": null,
   "source": [
    "#Print out name of data columns, info and type of data\r\n",
    "data.dtypes"
   ],
   "outputs": [],
   "metadata": {}
  },
  {
   "cell_type": "code",
   "execution_count": null,
   "source": [
    "data.shape"
   ],
   "outputs": [],
   "metadata": {}
  },
  {
   "cell_type": "code",
   "execution_count": null,
   "source": [
    "data.size"
   ],
   "outputs": [],
   "metadata": {}
  },
  {
   "cell_type": "code",
   "execution_count": null,
   "source": [
    "data.head()"
   ],
   "outputs": [],
   "metadata": {}
  },
  {
   "cell_type": "code",
   "execution_count": 20,
   "source": [
    "#Calculate shape and size of data\r\n",
    "data.tail()"
   ],
   "outputs": [
    {
     "output_type": "execute_result",
     "data": {
      "text/html": [
       "<div>\n",
       "<style scoped>\n",
       "    .dataframe tbody tr th:only-of-type {\n",
       "        vertical-align: middle;\n",
       "    }\n",
       "\n",
       "    .dataframe tbody tr th {\n",
       "        vertical-align: top;\n",
       "    }\n",
       "\n",
       "    .dataframe thead th {\n",
       "        text-align: right;\n",
       "    }\n",
       "</style>\n",
       "<table border=\"1\" class=\"dataframe\">\n",
       "  <thead>\n",
       "    <tr style=\"text-align: right;\">\n",
       "      <th></th>\n",
       "      <th>borough</th>\n",
       "      <th>major_category</th>\n",
       "      <th>minor_category</th>\n",
       "      <th>year</th>\n",
       "      <th>number_of_cases</th>\n",
       "    </tr>\n",
       "  </thead>\n",
       "  <tbody>\n",
       "    <tr>\n",
       "      <th>9409</th>\n",
       "      <td>City of London</td>\n",
       "      <td>Robbery</td>\n",
       "      <td>Business Property</td>\n",
       "      <td>2015</td>\n",
       "      <td>0</td>\n",
       "    </tr>\n",
       "    <tr>\n",
       "      <th>9410</th>\n",
       "      <td>City of London</td>\n",
       "      <td>Robbery</td>\n",
       "      <td>Business Property</td>\n",
       "      <td>2011</td>\n",
       "      <td>1</td>\n",
       "    </tr>\n",
       "    <tr>\n",
       "      <th>9411</th>\n",
       "      <td>Bexley</td>\n",
       "      <td>Sexual Offences</td>\n",
       "      <td>Rape</td>\n",
       "      <td>2016</td>\n",
       "      <td>0</td>\n",
       "    </tr>\n",
       "    <tr>\n",
       "      <th>9412</th>\n",
       "      <td>Sutton</td>\n",
       "      <td>Sexual Offences</td>\n",
       "      <td>Rape</td>\n",
       "      <td>2012</td>\n",
       "      <td>0</td>\n",
       "    </tr>\n",
       "    <tr>\n",
       "      <th>9413</th>\n",
       "      <td>Richmond upon Thames</td>\n",
       "      <td>Sexual Offences</td>\n",
       "      <td>Rape</td>\n",
       "      <td>2012</td>\n",
       "      <td>0</td>\n",
       "    </tr>\n",
       "  </tbody>\n",
       "</table>\n",
       "</div>"
      ],
      "text/plain": [
       "                   borough   major_category     minor_category  year  \\\n",
       "9409        City of London          Robbery  Business Property  2015   \n",
       "9410        City of London          Robbery  Business Property  2011   \n",
       "9411                Bexley  Sexual Offences               Rape  2016   \n",
       "9412                Sutton  Sexual Offences               Rape  2012   \n",
       "9413  Richmond upon Thames  Sexual Offences               Rape  2012   \n",
       "\n",
       "      number_of_cases  \n",
       "9409                0  \n",
       "9410                1  \n",
       "9411                0  \n",
       "9412                0  \n",
       "9413                0  "
      ]
     },
     "metadata": {},
     "execution_count": 20
    }
   ],
   "metadata": {}
  },
  {
   "cell_type": "code",
   "execution_count": 19,
   "source": [
    "# Show data in first four rows, last four rows and rows 100 - 104\r\n",
    "data[100:104]"
   ],
   "outputs": [
    {
     "output_type": "execute_result",
     "data": {
      "text/html": [
       "<div>\n",
       "<style scoped>\n",
       "    .dataframe tbody tr th:only-of-type {\n",
       "        vertical-align: middle;\n",
       "    }\n",
       "\n",
       "    .dataframe tbody tr th {\n",
       "        vertical-align: top;\n",
       "    }\n",
       "\n",
       "    .dataframe thead th {\n",
       "        text-align: right;\n",
       "    }\n",
       "</style>\n",
       "<table border=\"1\" class=\"dataframe\">\n",
       "  <thead>\n",
       "    <tr style=\"text-align: right;\">\n",
       "      <th></th>\n",
       "      <th>borough</th>\n",
       "      <th>major_category</th>\n",
       "      <th>minor_category</th>\n",
       "      <th>year</th>\n",
       "      <th>number_of_cases</th>\n",
       "    </tr>\n",
       "  </thead>\n",
       "  <tbody>\n",
       "    <tr>\n",
       "      <th>100</th>\n",
       "      <td>City of London</td>\n",
       "      <td>Theft and Handling</td>\n",
       "      <td>Other Theft Person</td>\n",
       "      <td>2008</td>\n",
       "      <td>0</td>\n",
       "    </tr>\n",
       "    <tr>\n",
       "      <th>101</th>\n",
       "      <td>City of London</td>\n",
       "      <td>Theft and Handling</td>\n",
       "      <td>Other Theft Person</td>\n",
       "      <td>2012</td>\n",
       "      <td>41</td>\n",
       "    </tr>\n",
       "    <tr>\n",
       "      <th>102</th>\n",
       "      <td>City of London</td>\n",
       "      <td>Theft and Handling</td>\n",
       "      <td>Other Theft Person</td>\n",
       "      <td>2013</td>\n",
       "      <td>24</td>\n",
       "    </tr>\n",
       "    <tr>\n",
       "      <th>103</th>\n",
       "      <td>City of London</td>\n",
       "      <td>Theft and Handling</td>\n",
       "      <td>Other Theft Person</td>\n",
       "      <td>2009</td>\n",
       "      <td>0</td>\n",
       "    </tr>\n",
       "  </tbody>\n",
       "</table>\n",
       "</div>"
      ],
      "text/plain": [
       "            borough      major_category      minor_category  year  \\\n",
       "100  City of London  Theft and Handling  Other Theft Person  2008   \n",
       "101  City of London  Theft and Handling  Other Theft Person  2012   \n",
       "102  City of London  Theft and Handling  Other Theft Person  2013   \n",
       "103  City of London  Theft and Handling  Other Theft Person  2009   \n",
       "\n",
       "     number_of_cases  \n",
       "100                0  \n",
       "101               41  \n",
       "102               24  \n",
       "103                0  "
      ]
     },
     "metadata": {},
     "execution_count": 19
    }
   ],
   "metadata": {}
  },
  {
   "cell_type": "code",
   "execution_count": 26,
   "source": [
    "# Create dataset which contains only year and number of cases\r\n",
    "\r\n",
    "years_and_cases = data[[\"year\", \"number_of_cases\"]]\r\n",
    "years_and_cases.info"
   ],
   "outputs": [
    {
     "output_type": "execute_result",
     "data": {
      "text/plain": [
       "<bound method DataFrame.info of       year  number_of_cases\n",
       "0     2016               13\n",
       "1     2011                2\n",
       "2     2014                3\n",
       "3     2013                5\n",
       "4     2009                0\n",
       "...    ...              ...\n",
       "9409  2015                0\n",
       "9410  2011                1\n",
       "9411  2016                0\n",
       "9412  2012                0\n",
       "9413  2012                0\n",
       "\n",
       "[9414 rows x 2 columns]>"
      ]
     },
     "metadata": {},
     "execution_count": 26
    }
   ],
   "metadata": {}
  },
  {
   "cell_type": "code",
   "execution_count": 28,
   "source": [
    "# Create dataset which contains only data from 2010\r\n",
    "data_2010 = data[(data.year == 2010)]\r\n",
    "data_2010.info"
   ],
   "outputs": [
    {
     "output_type": "execute_result",
     "data": {
      "text/plain": [
       "<bound method DataFrame.info of                      borough               major_category  \\\n",
       "7             City of London  Violence Against the Person   \n",
       "14            City of London           Theft and Handling   \n",
       "21            City of London  Violence Against the Person   \n",
       "29            City of London  Violence Against the Person   \n",
       "44            City of London  Violence Against the Person   \n",
       "...                      ...                          ...   \n",
       "9364  Kensington and Chelsea           Theft and Handling   \n",
       "9373  Kensington and Chelsea           Theft and Handling   \n",
       "9387  Kensington and Chelsea              Criminal Damage   \n",
       "9393  Kensington and Chelsea              Criminal Damage   \n",
       "9400  Kensington and Chelsea           Theft and Handling   \n",
       "\n",
       "                              minor_category  year  number_of_cases  \n",
       "7                                 Harassment  2010                0  \n",
       "14                               Other Theft  2010                0  \n",
       "21                              Wounding/GBH  2010                0  \n",
       "29                            Common Assault  2010                0  \n",
       "44                            Other violence  2010                0  \n",
       "...                                      ...   ...              ...  \n",
       "9364             Theft/Taking of Pedal Cycle  2010              901  \n",
       "9373           Theft/Taking Of Motor Vehicle  2010              504  \n",
       "9387        Criminal Damage To Motor Vehicle  2010              469  \n",
       "9393       Criminal Damage To Other Building  2010              165  \n",
       "9400  Motor Vehicle Interference & Tampering  2010               40  \n",
       "\n",
       "[1046 rows x 5 columns]>"
      ]
     },
     "metadata": {},
     "execution_count": 28
    }
   ],
   "metadata": {}
  },
  {
   "cell_type": "code",
   "execution_count": 35,
   "source": [
    "# What was the biggest number of cases in 2010? Which crime, category and region?\r\n",
    "data_2010 = data[(data.year == 2010)]\r\n",
    "max_crime_index = data_2010[\"number_of_cases\"].argmax()\r\n",
    "print(max_crime_index)\r\n",
    "data_2010.iloc[max_crime_index]\r\n"
   ],
   "outputs": [
    {
     "output_type": "stream",
     "name": "stdout",
     "text": [
      "794\n"
     ]
    },
    {
     "output_type": "execute_result",
     "data": {
      "text/plain": [
       "borough                   Westminster\n",
       "major_category     Theft and Handling\n",
       "minor_category            Other Theft\n",
       "year                             2010\n",
       "number_of_cases                 15906\n",
       "Name: 7140, dtype: object"
      ]
     },
     "metadata": {},
     "execution_count": 35
    }
   ],
   "metadata": {}
  },
  {
   "cell_type": "code",
   "execution_count": 41,
   "source": [
    "# Calculate the total number of cases per category for every year\r\n",
    "crime_type_count = data.groupby(['year', 'major_category'])['number_of_cases'].sum()\r\n",
    "print(crime_type_count)\r\n",
    "crime_type_count.to_csv(\"magic_excel.csv\")"
   ],
   "outputs": [
    {
     "output_type": "stream",
     "name": "stdout",
     "text": [
      "year  major_category             \n",
      "2008  Burglary                        88092\n",
      "      Criminal Damage                 91872\n",
      "      Drugs                           68804\n",
      "      Fraud or Forgery                 5325\n",
      "      Other Notifiable Offences       10112\n",
      "                                      ...  \n",
      "2016  Other Notifiable Offences       15809\n",
      "      Robbery                         22528\n",
      "      Sexual Offences                     0\n",
      "      Theft and Handling             294133\n",
      "      Violence Against the Person    232381\n",
      "Name: number_of_cases, Length: 81, dtype: int64\n"
     ]
    }
   ],
   "metadata": {}
  },
  {
   "cell_type": "code",
   "execution_count": null,
   "source": [],
   "outputs": [],
   "metadata": {}
  }
 ],
 "metadata": {
  "orig_nbformat": 4,
  "language_info": {
   "name": "python",
   "version": "3.9.7",
   "mimetype": "text/x-python",
   "codemirror_mode": {
    "name": "ipython",
    "version": 3
   },
   "pygments_lexer": "ipython3",
   "nbconvert_exporter": "python",
   "file_extension": ".py"
  },
  "kernelspec": {
   "name": "python3",
   "display_name": "Python 3.9.7 64-bit (windows store)"
  },
  "interpreter": {
   "hash": "a3a414d9c9a2ef5caa6e540b8b29aac8b582a9a1bd1c746cfbbc1702290c38c1"
  }
 },
 "nbformat": 4,
 "nbformat_minor": 2
}