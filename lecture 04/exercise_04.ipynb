{
 "cells": [
  {
   "cell_type": "code",
   "execution_count": 66,
   "source": [
    "import numpy as np\r\n",
    "\r\n",
    "# Define random matrix of numbers with 4 columns and 3 rows\r\n",
    "arr =  np.random.rand(3,4)\r\n",
    "print(arr)\r\n"
   ],
   "outputs": [
    {
     "output_type": "stream",
     "name": "stdout",
     "text": [
      "[[0.69774138 0.05795958 0.36035654 0.12905018]\n",
      " [0.99493917 0.60936766 0.31531615 0.91354828]\n",
      " [0.78300671 0.62193895 0.20801226 0.91924172]]\n"
     ]
    }
   ],
   "metadata": {}
  },
  {
   "cell_type": "code",
   "execution_count": 68,
   "source": [
    "# Calculate the average of rows and average of columns\r\n",
    "print(np.mean(arr, axis=0))\r\n",
    "print(np.mean(arr, axis=1))"
   ],
   "outputs": [
    {
     "output_type": "stream",
     "name": "stdout",
     "text": [
      "[0.82522909 0.4297554  0.29456165 0.65394673]\n",
      "[0.31127692 0.70829282 0.63304991]\n"
     ]
    }
   ],
   "metadata": {}
  },
  {
   "cell_type": "code",
   "execution_count": 58,
   "source": [
    "# Set one matrix element to any random number\r\n",
    "arr[0,0] = np.random.rand()\r\n",
    "print(arr)"
   ],
   "outputs": [
    {
     "output_type": "stream",
     "name": "stdout",
     "text": [
      "[[0.74887292 0.35680423 0.6419944  0.77689509]\n",
      " [0.9607332  0.12629899 0.08686391 0.36980219]\n",
      " [0.6397932  0.90745084 0.33007623 0.50007762]]\n"
     ]
    }
   ],
   "metadata": {}
  },
  {
   "cell_type": "code",
   "execution_count": 59,
   "source": [
    "# Set one matrix element to nan (not a number)\r\n",
    "arr[0,0] = np.NaN\r\n",
    "print(arr)"
   ],
   "outputs": [
    {
     "output_type": "stream",
     "name": "stdout",
     "text": [
      "[[       nan 0.35680423 0.6419944  0.77689509]\n",
      " [0.9607332  0.12629899 0.08686391 0.36980219]\n",
      " [0.6397932  0.90745084 0.33007623 0.50007762]]\n"
     ]
    }
   ],
   "metadata": {}
  },
  {
   "cell_type": "code",
   "execution_count": 60,
   "source": [
    "# Calculate row and column averages again, what needs to be changed?\r\n",
    "print(arr[0,:].mean())\r\n",
    "print(arr[1,:].mean())\r\n",
    "print(arr[2,:].mean())\r\n",
    "\r\n",
    "#we cannot calculate NaN\r\n",
    "#np.nanmean is smart and can ignore that\r\n"
   ],
   "outputs": [
    {
     "output_type": "stream",
     "name": "stdout",
     "text": [
      "nan\n",
      "0.3859245721949074\n",
      "0.5943494738168762\n"
     ]
    }
   ],
   "metadata": {}
  },
  {
   "cell_type": "code",
   "execution_count": 61,
   "source": [
    "# Use two for loops to read and print every element of matrix\r\n",
    "for x in arr:\r\n",
    "    print(\"---row---\")\r\n",
    "    for b in x:\r\n",
    "        print(b)"
   ],
   "outputs": [
    {
     "output_type": "stream",
     "name": "stdout",
     "text": [
      "---row---\n",
      "nan\n",
      "0.3568042297298447\n",
      "0.6419943972538192\n",
      "0.7768950870896755\n",
      "---row---\n",
      "0.9607331968499587\n",
      "0.12629899216658358\n",
      "0.08686391314701469\n",
      "0.3698021866160728\n",
      "---row---\n",
      "0.6397932033602711\n",
      "0.9074508432777019\n",
      "0.33007623007945197\n",
      "0.5000776185500797\n"
     ]
    }
   ],
   "metadata": {}
  },
  {
   "cell_type": "code",
   "execution_count": 62,
   "source": [
    "# Define 2 random matrices of numbers with 8 columns and 5 rows\r\n",
    "matrix1 =  np.random.rand(8,5)\r\n",
    "matrix2 =  np.random.rand(8,5)\r\n",
    "\r\n",
    "print(matrix1)\r\n",
    "print(matrix2)"
   ],
   "outputs": [
    {
     "output_type": "stream",
     "name": "stdout",
     "text": [
      "[[0.21710714 0.47654694 0.80569819 0.77319575 0.07221701]\n",
      " [0.25010707 0.89909412 0.38598564 0.9219274  0.59345097]\n",
      " [0.09563142 0.19541156 0.99203234 0.93276474 0.069127  ]\n",
      " [0.17700709 0.60509088 0.90294192 0.47633276 0.40958109]\n",
      " [0.51134542 0.11089374 0.38537949 0.96786267 0.81697822]\n",
      " [0.17707492 0.73468649 0.08114666 0.24303831 0.08909333]\n",
      " [0.97383858 0.37071847 0.89715757 0.87653014 0.41166243]\n",
      " [0.30553783 0.22700793 0.35868171 0.63047986 0.69745548]]\n",
      "[[0.41519382 0.63311384 0.01900327 0.57281669 0.51587498]\n",
      " [0.88920149 0.19562547 0.4890887  0.91378039 0.78988435]\n",
      " [0.81360738 0.02522377 0.24763337 0.09406899 0.11634733]\n",
      " [0.27792185 0.17798612 0.90286629 0.24716914 0.84575268]\n",
      " [0.63503097 0.39975209 0.54484536 0.5115825  0.03888412]\n",
      " [0.7393706  0.89383416 0.72820414 0.70798378 0.33497866]\n",
      " [0.26927096 0.31780297 0.18464839 0.32476138 0.07922244]\n",
      " [0.46066782 0.53408486 0.61745876 0.94857439 0.8631938 ]]\n"
     ]
    }
   ],
   "metadata": {}
  },
  {
   "cell_type": "code",
   "execution_count": 52,
   "source": [
    "# Calculate the product of matrices\r\n",
    "product1 = np.prod(matrix1)\r\n",
    "print(product1)\r\n",
    "product2 = np.prod(matrix2)\r\n",
    "print(product2)"
   ],
   "outputs": [
    {
     "output_type": "stream",
     "name": "stdout",
     "text": [
      "1.073229066156457e-16\n",
      "1.6595146793848375e-20\n"
     ]
    }
   ],
   "metadata": {}
  },
  {
   "cell_type": "code",
   "execution_count": null,
   "source": [
    "# What are the dimensions of product?\r\n"
   ],
   "outputs": [],
   "metadata": {}
  },
  {
   "cell_type": "code",
   "execution_count": null,
   "source": [
    "# Multiple product matrix by 10\r\n"
   ],
   "outputs": [],
   "metadata": {}
  }
 ],
 "metadata": {
  "orig_nbformat": 4,
  "language_info": {
   "name": "python",
   "version": "3.9.7",
   "mimetype": "text/x-python",
   "codemirror_mode": {
    "name": "ipython",
    "version": 3
   },
   "pygments_lexer": "ipython3",
   "nbconvert_exporter": "python",
   "file_extension": ".py"
  },
  "kernelspec": {
   "name": "python3",
   "display_name": "Python 3.9.7 64-bit (windows store)"
  },
  "interpreter": {
   "hash": "a3a414d9c9a2ef5caa6e540b8b29aac8b582a9a1bd1c746cfbbc1702290c38c1"
  }
 },
 "nbformat": 4,
 "nbformat_minor": 2
}