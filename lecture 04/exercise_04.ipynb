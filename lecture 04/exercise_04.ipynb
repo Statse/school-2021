{
 "cells": [
  {
   "cell_type": "code",
   "execution_count": 15,
   "source": [
    "import numpy as np\r\n",
    "\r\n",
    "# Define random matrix of numbers with 4 columns and 3 rows\r\n",
    "arr =  np.random.rand(4,3)\r\n",
    "print(arr)\r\n",
    "\r\n",
    "# Calculate row and column averages again, what needs to be changed?\r\n",
    "\r\n",
    "# Use two for loops to read and print every element of matrix\r\n",
    "# for x in arr:\r\n",
    "#     print(\"---row---\")\r\n",
    "#     for b in x:\r\n",
    "#         print(b)\r\n",
    "\r\n"
   ],
   "outputs": [
    {
     "output_type": "stream",
     "name": "stdout",
     "text": [
      "[[0.66074194 0.34067634 0.68086895]\n",
      " [0.2380285  0.92269707 0.77157615]\n",
      " [0.68287791 0.14383944 0.55902181]\n",
      " [0.2143121  0.60685689 0.62302096]]\n"
     ]
    }
   ],
   "metadata": {}
  },
  {
   "cell_type": "code",
   "execution_count": 16,
   "source": [
    "# Calculate the average of rows and average of columns\r\n",
    "print(arr[0,:].mean())"
   ],
   "outputs": [
    {
     "output_type": "stream",
     "name": "stdout",
     "text": [
      "0.56076240733161\n"
     ]
    }
   ],
   "metadata": {}
  },
  {
   "cell_type": "code",
   "execution_count": 42,
   "source": [
    "# Set one matrix element to any random number\r\n",
    "arr[0,0] = np.random.rand()\r\n",
    "print(arr)"
   ],
   "outputs": [
    {
     "output_type": "stream",
     "name": "stdout",
     "text": [
      "[[0.51638761 0.34067634 0.68086895]\n",
      " [0.2380285  4.         0.49140079]\n",
      " [0.68287791 0.14383944 0.55902181]\n",
      " [0.2143121  0.60685689 0.62302096]]\n"
     ]
    }
   ],
   "metadata": {}
  },
  {
   "cell_type": "code",
   "execution_count": 43,
   "source": [
    "# Set one matrix element to nan (not a number)\r\n",
    "arr[0,0] = np.NaN\r\n",
    "print(arr)"
   ],
   "outputs": [
    {
     "output_type": "stream",
     "name": "stdout",
     "text": [
      "[[       nan 0.34067634 0.68086895]\n",
      " [0.2380285  4.         0.49140079]\n",
      " [0.68287791 0.14383944 0.55902181]\n",
      " [0.2143121  0.60685689 0.62302096]]\n"
     ]
    }
   ],
   "metadata": {}
  }
 ],
 "metadata": {
  "orig_nbformat": 4,
  "language_info": {
   "name": "python",
   "version": "3.9.7",
   "mimetype": "text/x-python",
   "codemirror_mode": {
    "name": "ipython",
    "version": 3
   },
   "pygments_lexer": "ipython3",
   "nbconvert_exporter": "python",
   "file_extension": ".py"
  },
  "kernelspec": {
   "name": "python3",
   "display_name": "Python 3.9.7 64-bit (windows store)"
  },
  "interpreter": {
   "hash": "a3a414d9c9a2ef5caa6e540b8b29aac8b582a9a1bd1c746cfbbc1702290c38c1"
  }
 },
 "nbformat": 4,
 "nbformat_minor": 2
}