{
 "cells": [
  {
   "cell_type": "code",
   "execution_count": 66,
   "source": [
    "import numpy as np\r\n",
    "\r\n",
    "# Define random matrix of numbers with 4 columns and 3 rows\r\n",
    "arr =  np.random.rand(3,4)\r\n",
    "print(arr)\r\n"
   ],
   "outputs": [
    {
     "output_type": "stream",
     "name": "stdout",
     "text": [
      "[[0.69774138 0.05795958 0.36035654 0.12905018]\n",
      " [0.99493917 0.60936766 0.31531615 0.91354828]\n",
      " [0.78300671 0.62193895 0.20801226 0.91924172]]\n"
     ]
    }
   ],
   "metadata": {}
  },
  {
   "cell_type": "code",
   "execution_count": 68,
   "source": [
    "# Calculate the average of rows and average of columns\r\n",
    "print(np.mean(arr, axis=0))\r\n",
    "print(np.mean(arr, axis=1))"
   ],
   "outputs": [
    {
     "output_type": "stream",
     "name": "stdout",
     "text": [
      "[0.82522909 0.4297554  0.29456165 0.65394673]\n",
      "[0.31127692 0.70829282 0.63304991]\n"
     ]
    }
   ],
   "metadata": {}
  },
  {
   "cell_type": "code",
   "execution_count": 58,
   "source": [
    "# Set one matrix element to any random number\r\n",
    "arr[0,0] = np.random.rand()\r\n",
    "print(arr)"
   ],
   "outputs": [
    {
     "output_type": "stream",
     "name": "stdout",
     "text": [
      "[[0.74887292 0.35680423 0.6419944  0.77689509]\n",
      " [0.9607332  0.12629899 0.08686391 0.36980219]\n",
      " [0.6397932  0.90745084 0.33007623 0.50007762]]\n"
     ]
    }
   ],
   "metadata": {}
  },
  {
   "cell_type": "code",
   "execution_count": 59,
   "source": [
    "# Set one matrix element to nan (not a number)\r\n",
    "arr[0,0] = np.NaN\r\n",
    "print(arr)"
   ],
   "outputs": [
    {
     "output_type": "stream",
     "name": "stdout",
     "text": [
      "[[       nan 0.35680423 0.6419944  0.77689509]\n",
      " [0.9607332  0.12629899 0.08686391 0.36980219]\n",
      " [0.6397932  0.90745084 0.33007623 0.50007762]]\n"
     ]
    }
   ],
   "metadata": {}
  },
  {
   "cell_type": "code",
   "execution_count": 60,
   "source": [
    "# Calculate row and column averages again, what needs to be changed?\r\n",
    "print(arr[0,:].mean())\r\n",
    "print(arr[1,:].mean())\r\n",
    "print(arr[2,:].mean())\r\n",
    "\r\n",
    "#we cannot calculate NaN\r\n",
    "#np.nanmean is smart and can ignore that\r\n"
   ],
   "outputs": [
    {
     "output_type": "stream",
     "name": "stdout",
     "text": [
      "nan\n",
      "0.3859245721949074\n",
      "0.5943494738168762\n"
     ]
    }
   ],
   "metadata": {}
  },
  {
   "cell_type": "code",
   "execution_count": 61,
   "source": [
    "# Use two for loops to read and print every element of matrix\r\n",
    "for x in arr:\r\n",
    "    print(\"---row---\")\r\n",
    "    for b in x:\r\n",
    "        print(b)"
   ],
   "outputs": [
    {
     "output_type": "stream",
     "name": "stdout",
     "text": [
      "---row---\n",
      "nan\n",
      "0.3568042297298447\n",
      "0.6419943972538192\n",
      "0.7768950870896755\n",
      "---row---\n",
      "0.9607331968499587\n",
      "0.12629899216658358\n",
      "0.08686391314701469\n",
      "0.3698021866160728\n",
      "---row---\n",
      "0.6397932033602711\n",
      "0.9074508432777019\n",
      "0.33007623007945197\n",
      "0.5000776185500797\n"
     ]
    }
   ],
   "metadata": {}
  },
  {
   "cell_type": "code",
   "execution_count": 71,
   "source": [
    "# Define 2 random matrices of numbers with 8 columns and 5 rows\r\n",
    "matrix1 =  np.random.rand(8,5)\r\n",
    "matrix2 =  np.random.rand(8,5)\r\n",
    "\r\n",
    "matrix12 =  matrix1 * matrix2\r\n",
    "\r\n",
    "print(matrix1)\r\n",
    "print(matrix2)\r\n",
    "print(matrix12)"
   ],
   "outputs": [
    {
     "output_type": "stream",
     "name": "stdout",
     "text": [
      "[[0.16467391 0.13656641 0.17460874 0.94436392 0.37525456]\n",
      " [0.54618066 0.38609533 0.77457816 0.42014038 0.6417846 ]\n",
      " [0.45525503 0.78479915 0.5583523  0.49557373 0.09914881]\n",
      " [0.91304855 0.57113537 0.39626481 0.50252488 0.31905866]\n",
      " [0.23519957 0.8734901  0.45183188 0.32342436 0.64612808]\n",
      " [0.2931315  0.04495196 0.27593387 0.76029577 0.79504465]\n",
      " [0.02040583 0.05705599 0.7900737  0.28831107 0.62689412]\n",
      " [0.92052266 0.73580425 0.16552688 0.56072853 0.95194195]]\n",
      "[[0.50535669 0.6108863  0.14308028 0.81418199 0.15922345]\n",
      " [0.80324559 0.79642098 0.73355468 0.95307099 0.91502616]\n",
      " [0.05394505 0.90037671 0.18513637 0.60674667 0.50039416]\n",
      " [0.16344711 0.04334269 0.65078907 0.72515524 0.0547099 ]\n",
      " [0.59049089 0.62330128 0.15686275 0.79593815 0.42313386]\n",
      " [0.75818567 0.03485472 0.87112667 0.66947665 0.49611177]\n",
      " [0.28771289 0.07682236 0.15810828 0.6166197  0.53858877]\n",
      " [0.30663242 0.92796057 0.60303915 0.87043623 0.33345528]]\n",
      "[[0.08321906 0.08342655 0.02498307 0.76888409 0.05974932]\n",
      " [0.43871721 0.30749442 0.56819544 0.40042361 0.5872497 ]\n",
      " [0.02455875 0.70661488 0.10337132 0.30068771 0.04961349]\n",
      " [0.14923514 0.02475454 0.25788481 0.36440855 0.01745567]\n",
      " [0.1388832  0.5444475  0.07087559 0.25742578 0.27339867]\n",
      " [0.2222481  0.00156679 0.24037335 0.50900027 0.39443101]\n",
      " [0.00587102 0.00438318 0.12491719 0.17777828 0.33763813]\n",
      " [0.28226209 0.68279733 0.09981919 0.48807842 0.31743007]]\n"
     ]
    }
   ],
   "metadata": {}
  },
  {
   "cell_type": "code",
   "execution_count": 52,
   "source": [
    "# Calculate the product of matrices\r\n",
    "product1 = np.prod(matrix1)\r\n",
    "print(product1)\r\n",
    "product2 = np.prod(matrix2)\r\n",
    "print(product2)"
   ],
   "outputs": [
    {
     "output_type": "stream",
     "name": "stdout",
     "text": [
      "1.073229066156457e-16\n",
      "1.6595146793848375e-20\n"
     ]
    }
   ],
   "metadata": {}
  },
  {
   "cell_type": "code",
   "execution_count": null,
   "source": [
    "# What are the dimensions of product?\r\n"
   ],
   "outputs": [],
   "metadata": {}
  },
  {
   "cell_type": "code",
   "execution_count": null,
   "source": [
    "# Multiple product matrix by 10\r\n"
   ],
   "outputs": [],
   "metadata": {}
  }
 ],
 "metadata": {
  "orig_nbformat": 4,
  "language_info": {
   "name": "python",
   "version": "3.9.7",
   "mimetype": "text/x-python",
   "codemirror_mode": {
    "name": "ipython",
    "version": 3
   },
   "pygments_lexer": "ipython3",
   "nbconvert_exporter": "python",
   "file_extension": ".py"
  },
  "kernelspec": {
   "name": "python3",
   "display_name": "Python 3.9.7 64-bit (windows store)"
  },
  "interpreter": {
   "hash": "a3a414d9c9a2ef5caa6e540b8b29aac8b582a9a1bd1c746cfbbc1702290c38c1"
  }
 },
 "nbformat": 4,
 "nbformat_minor": 2
}