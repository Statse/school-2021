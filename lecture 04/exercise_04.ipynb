{
 "cells": [
  {
   "cell_type": "code",
   "execution_count": 3,
   "source": [
    "import numpy as np\r\n",
    "\r\n",
    "# Define random matrix of numbers with 4 columns and 3 rows\r\n",
    "arr =  np.random.rand(3,4)\r\n",
    "print(arr)\r\n"
   ],
   "outputs": [
    {
     "output_type": "stream",
     "name": "stdout",
     "text": [
      "[[0.79455034 0.91402745 0.68252643 0.43183942]\n",
      " [0.66980712 0.68001559 0.81693257 0.50062475]\n",
      " [0.8319598  0.20708212 0.02828223 0.79334988]]\n"
     ]
    }
   ],
   "metadata": {}
  },
  {
   "cell_type": "code",
   "execution_count": 4,
   "source": [
    "# Calculate the average of rows and average of columns\r\n",
    "print(np.mean(arr, axis=0))\r\n",
    "print(np.mean(arr, axis=1))"
   ],
   "outputs": [
    {
     "output_type": "stream",
     "name": "stdout",
     "text": [
      "[0.76543909 0.60037505 0.50924708 0.57527135]\n",
      "[0.70573591 0.66684501 0.46516851]\n"
     ]
    }
   ],
   "metadata": {}
  },
  {
   "cell_type": "code",
   "execution_count": 5,
   "source": [
    "# Set one matrix element to any random number\r\n",
    "arr[0,0] = np.random.rand()\r\n",
    "print(arr)"
   ],
   "outputs": [
    {
     "output_type": "stream",
     "name": "stdout",
     "text": [
      "[[0.56177987 0.91402745 0.68252643 0.43183942]\n",
      " [0.66980712 0.68001559 0.81693257 0.50062475]\n",
      " [0.8319598  0.20708212 0.02828223 0.79334988]]\n"
     ]
    }
   ],
   "metadata": {}
  },
  {
   "cell_type": "code",
   "execution_count": 6,
   "source": [
    "# Set one matrix element to nan (not a number)\r\n",
    "arr[0,0] = np.NaN\r\n",
    "print(arr)"
   ],
   "outputs": [
    {
     "output_type": "stream",
     "name": "stdout",
     "text": [
      "[[       nan 0.91402745 0.68252643 0.43183942]\n",
      " [0.66980712 0.68001559 0.81693257 0.50062475]\n",
      " [0.8319598  0.20708212 0.02828223 0.79334988]]\n"
     ]
    }
   ],
   "metadata": {}
  },
  {
   "cell_type": "code",
   "execution_count": 7,
   "source": [
    "# Calculate row and column averages again, what needs to be changed?\r\n",
    "print(arr[0,:].mean())\r\n",
    "print(arr[1,:].mean())\r\n",
    "print(arr[2,:].mean())\r\n",
    "\r\n",
    "#we cannot calculate NaN\r\n",
    "#np.nanmean is smart and can ignore that\r\n"
   ],
   "outputs": [
    {
     "output_type": "stream",
     "name": "stdout",
     "text": [
      "nan\n",
      "0.6668450070425651\n",
      "0.46516850602935716\n"
     ]
    }
   ],
   "metadata": {}
  },
  {
   "cell_type": "code",
   "execution_count": 8,
   "source": [
    "# Use two for loops to read and print every element of matrix\r\n",
    "for x in arr:\r\n",
    "    print(\"---row---\")\r\n",
    "    for b in x:\r\n",
    "        print(b)"
   ],
   "outputs": [
    {
     "output_type": "stream",
     "name": "stdout",
     "text": [
      "---row---\n",
      "nan\n",
      "0.9140274466724605\n",
      "0.6825264335710314\n",
      "0.43183942316004464\n",
      "---row---\n",
      "0.6698071223338308\n",
      "0.6800155872653311\n",
      "0.8169325733290893\n",
      "0.5006247452420097\n",
      "---row---\n",
      "0.8319597999781465\n",
      "0.20708211506007257\n",
      "0.028282229137997716\n",
      "0.7933498799412118\n"
     ]
    }
   ],
   "metadata": {}
  },
  {
   "cell_type": "code",
   "execution_count": 9,
   "source": [
    "# Define 2 random matrices of numbers with 8 columns and 5 rows\r\n",
    "matrix1 =  np.random.rand(8,5)\r\n",
    "matrix2 =  np.random.rand(8,5)\r\n",
    "\r\n",
    "matrix12 =  matrix1 * matrix2\r\n",
    "\r\n",
    "print(matrix1)\r\n",
    "print(matrix2)\r\n",
    "print(matrix12)"
   ],
   "outputs": [
    {
     "output_type": "stream",
     "name": "stdout",
     "text": [
      "[[0.56465669 0.44717462 0.47868419 0.39470542 0.46172732]\n",
      " [0.12756061 0.45742001 0.85166894 0.93797365 0.391833  ]\n",
      " [0.58982915 0.49250016 0.77495329 0.30044081 0.05943812]\n",
      " [0.02110704 0.22302241 0.54250965 0.0753022  0.26046232]\n",
      " [0.87057752 0.76278333 0.59666926 0.64138318 0.83886272]\n",
      " [0.55699745 0.34283871 0.15714781 0.54405903 0.1947299 ]\n",
      " [0.31476462 0.81251578 0.25297866 0.14105652 0.68528303]\n",
      " [0.27021702 0.05351175 0.60015221 0.2260962  0.65741671]]\n",
      "[[0.82879128 0.85099523 0.38246298 0.705764   0.75264724]\n",
      " [0.71963384 0.36537441 0.4968381  0.72756099 0.92977944]\n",
      " [0.41932949 0.77335578 0.38412352 0.43348911 0.3932709 ]\n",
      " [0.82280691 0.49246732 0.58429641 0.41274936 0.79803217]\n",
      " [0.91054497 0.23309284 0.74761589 0.72864663 0.0308324 ]\n",
      " [0.25143462 0.34359294 0.89807713 0.37576512 0.96238868]\n",
      " [0.0555182  0.07889331 0.42890614 0.61041201 0.97181227]\n",
      " [0.80383997 0.21235557 0.09298339 0.08976496 0.00522809]]\n",
      "[[0.46798254 0.38054347 0.18307899 0.27856888 0.34751779]\n",
      " [0.09179693 0.16712957 0.42314157 0.68243304 0.36431827]\n",
      " [0.24733276 0.38087784 0.29767779 0.13023782 0.02337528]\n",
      " [0.01736702 0.10983125 0.31698644 0.03108093 0.20785731]\n",
      " [0.79269998 0.17779933 0.44607942 0.46734169 0.02586415]\n",
      " [0.14004844 0.11779696 0.14113086 0.20443841 0.18740585]\n",
      " [0.01747516 0.06410206 0.1085041  0.08610259 0.66596645]\n",
      " [0.21721124 0.01136352 0.05580419 0.02029552 0.00343703]]\n"
     ]
    }
   ],
   "metadata": {}
  },
  {
   "cell_type": "code",
   "execution_count": 10,
   "source": [
    "# Calculate the product of matrices\r\n",
    "product1 = np.prod(matrix1)\r\n",
    "print(product1)\r\n",
    "product2 = np.prod(matrix2)\r\n",
    "print(product2)"
   ],
   "outputs": [
    {
     "output_type": "stream",
     "name": "stdout",
     "text": [
      "4.429293452253952e-19\n",
      "1.7411351117968707e-17\n"
     ]
    }
   ],
   "metadata": {}
  },
  {
   "cell_type": "code",
   "execution_count": 11,
   "source": [
    "# What are the dimensions of product?\r\n"
   ],
   "outputs": [],
   "metadata": {}
  },
  {
   "cell_type": "code",
   "execution_count": 12,
   "source": [
    "# Multiple product matrix by 10\r\n"
   ],
   "outputs": [],
   "metadata": {}
  }
 ],
 "metadata": {
  "orig_nbformat": 4,
  "language_info": {
   "name": "python",
   "version": "3.9.7",
   "mimetype": "text/x-python",
   "codemirror_mode": {
    "name": "ipython",
    "version": 3
   },
   "pygments_lexer": "ipython3",
   "nbconvert_exporter": "python",
   "file_extension": ".py"
  },
  "kernelspec": {
   "name": "python3",
   "display_name": "Python 3.9.7 64-bit (windows store)"
  },
  "interpreter": {
   "hash": "a3a414d9c9a2ef5caa6e540b8b29aac8b582a9a1bd1c746cfbbc1702290c38c1"
  }
 },
 "nbformat": 4,
 "nbformat_minor": 2
}