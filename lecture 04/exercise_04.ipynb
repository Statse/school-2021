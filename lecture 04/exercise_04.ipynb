{
 "cells": [
  {
   "cell_type": "code",
   "execution_count": 66,
   "source": [
    "import numpy as np\r\n",
    "\r\n",
    "# Define random matrix of numbers with 4 columns and 3 rows\r\n",
    "arr =  np.random.rand(3,4)\r\n",
    "print(arr)\r\n"
   ],
   "outputs": [
    {
     "output_type": "stream",
     "name": "stdout",
     "text": [
      "[[0.69774138 0.05795958 0.36035654 0.12905018]\n",
      " [0.99493917 0.60936766 0.31531615 0.91354828]\n",
      " [0.78300671 0.62193895 0.20801226 0.91924172]]\n"
     ]
    }
   ],
   "metadata": {}
  },
  {
   "cell_type": "code",
   "execution_count": 68,
   "source": [
    "# Calculate the average of rows and average of columns\r\n",
    "print(np.mean(arr, axis=0))\r\n",
    "print(np.mean(arr, axis=1))"
   ],
   "outputs": [
    {
     "output_type": "stream",
     "name": "stdout",
     "text": [
      "[0.82522909 0.4297554  0.29456165 0.65394673]\n",
      "[0.31127692 0.70829282 0.63304991]\n"
     ]
    }
   ],
   "metadata": {}
  },
  {
   "cell_type": "code",
   "execution_count": 58,
   "source": [
    "# Set one matrix element to any random number\r\n",
    "arr[0,0] = np.random.rand()\r\n",
    "print(arr)"
   ],
   "outputs": [
    {
     "output_type": "stream",
     "name": "stdout",
     "text": [
      "[[0.74887292 0.35680423 0.6419944  0.77689509]\n",
      " [0.9607332  0.12629899 0.08686391 0.36980219]\n",
      " [0.6397932  0.90745084 0.33007623 0.50007762]]\n"
     ]
    }
   ],
   "metadata": {}
  },
  {
   "cell_type": "code",
   "execution_count": 59,
   "source": [
    "# Set one matrix element to nan (not a number)\r\n",
    "arr[0,0] = np.NaN\r\n",
    "print(arr)"
   ],
   "outputs": [
    {
     "output_type": "stream",
     "name": "stdout",
     "text": [
      "[[       nan 0.35680423 0.6419944  0.77689509]\n",
      " [0.9607332  0.12629899 0.08686391 0.36980219]\n",
      " [0.6397932  0.90745084 0.33007623 0.50007762]]\n"
     ]
    }
   ],
   "metadata": {}
  },
  {
   "cell_type": "code",
   "execution_count": 60,
   "source": [
    "# Calculate row and column averages again, what needs to be changed?\r\n",
    "print(arr[0,:].mean())\r\n",
    "print(arr[1,:].mean())\r\n",
    "print(arr[2,:].mean())\r\n",
    "\r\n",
    "#we cannot calculate NaN\r\n",
    "#np.nanmean is smart and can ignore that\r\n"
   ],
   "outputs": [
    {
     "output_type": "stream",
     "name": "stdout",
     "text": [
      "nan\n",
      "0.3859245721949074\n",
      "0.5943494738168762\n"
     ]
    }
   ],
   "metadata": {}
  },
  {
   "cell_type": "code",
   "execution_count": 61,
   "source": [
    "# Use two for loops to read and print every element of matrix\r\n",
    "for x in arr:\r\n",
    "    print(\"---row---\")\r\n",
    "    for b in x:\r\n",
    "        print(b)"
   ],
   "outputs": [
    {
     "output_type": "stream",
     "name": "stdout",
     "text": [
      "---row---\n",
      "nan\n",
      "0.3568042297298447\n",
      "0.6419943972538192\n",
      "0.7768950870896755\n",
      "---row---\n",
      "0.9607331968499587\n",
      "0.12629899216658358\n",
      "0.08686391314701469\n",
      "0.3698021866160728\n",
      "---row---\n",
      "0.6397932033602711\n",
      "0.9074508432777019\n",
      "0.33007623007945197\n",
      "0.5000776185500797\n"
     ]
    }
   ],
   "metadata": {}
  },
  {
   "cell_type": "code",
   "execution_count": 69,
   "source": [
    "# Define 2 random matrices of numbers with 8 columns and 5 rows\r\n",
    "matrix1 =  np.random.rand(8,5)\r\n",
    "matrix2 =  np.random.rand(8,5)\r\n",
    "\r\n",
    "matrix12 =  matrix1 * matrix2\r\n",
    "\r\n",
    "# print(matrix1)\r\n",
    "# print(matrix2)\r\n",
    "print(matrix12)"
   ],
   "outputs": [
    {
     "output_type": "stream",
     "name": "stdout",
     "text": [
      "[[0.38030405 0.50298417 0.99236506 0.95242642 0.02546462]\n",
      " [0.72477503 0.9854785  0.73178607 0.68306533 0.52089954]\n",
      " [0.81969492 0.88158503 0.77541711 0.1150375  0.23254982]\n",
      " [0.19576214 0.6764919  0.645284   0.46379141 0.10211081]\n",
      " [0.94120511 0.41781825 0.75946545 0.44860435 0.62487113]\n",
      " [0.30660289 0.00930601 0.89558804 0.62606846 0.68499901]\n",
      " [0.31005124 0.14454642 0.94142089 0.9827593  0.73489307]\n",
      " [0.83895461 0.49807239 0.98143708 0.51410706 0.1506086 ]]\n",
      "[[0.75158129 0.72895767 0.43628388 0.11096106 0.51911931]\n",
      " [0.49755986 0.20073859 0.80337965 0.56234882 0.55098395]\n",
      " [0.15543007 0.26629862 0.50919947 0.2501059  0.50079003]\n",
      " [0.09087372 0.05801804 0.76790622 0.11000854 0.05312253]\n",
      " [0.43144871 0.50702595 0.99918415 0.82857201 0.67090586]\n",
      " [0.85963589 0.08148068 0.2500235  0.16667397 0.34618854]\n",
      " [0.59153533 0.12999993 0.78521452 0.47378191 0.75555537]\n",
      " [0.73273286 0.65825988 0.52205348 0.33327026 0.6344206 ]]\n",
      "[[2.85829407e-01 3.66654164e-01 4.32952876e-01 1.05682247e-01\n",
      "  1.32191782e-02]\n",
      " [3.60618961e-01 1.97823561e-01 5.87902036e-01 3.84120981e-01\n",
      "  2.87007286e-01]\n",
      " [1.27405243e-01 2.34764877e-01 3.94841976e-01 2.87715586e-02\n",
      "  1.16458631e-01]\n",
      " [1.77896333e-02 3.92487349e-02 4.95517595e-01 5.10210157e-02\n",
      "  5.42438390e-03]\n",
      " [4.06081732e-01 2.11844698e-01 7.58845844e-01 3.71701007e-01\n",
      "  4.19229705e-01]\n",
      " [2.63566850e-01 7.58260297e-04 2.23918058e-01 1.04349313e-01\n",
      "  2.37138803e-01]\n",
      " [1.83406262e-01 1.87910246e-02 7.39217353e-01 4.65613584e-01\n",
      "  5.55252404e-01]\n",
      " [6.14729609e-01 3.27861069e-01 5.12362645e-01 1.71336596e-01\n",
      "  9.55491960e-02]]\n"
     ]
    }
   ],
   "metadata": {}
  },
  {
   "cell_type": "code",
   "execution_count": 52,
   "source": [
    "# Calculate the product of matrices\r\n",
    "product1 = np.prod(matrix1)\r\n",
    "print(product1)\r\n",
    "product2 = np.prod(matrix2)\r\n",
    "print(product2)"
   ],
   "outputs": [
    {
     "output_type": "stream",
     "name": "stdout",
     "text": [
      "1.073229066156457e-16\n",
      "1.6595146793848375e-20\n"
     ]
    }
   ],
   "metadata": {}
  },
  {
   "cell_type": "code",
   "execution_count": null,
   "source": [
    "# What are the dimensions of product?\r\n"
   ],
   "outputs": [],
   "metadata": {}
  },
  {
   "cell_type": "code",
   "execution_count": null,
   "source": [
    "# Multiple product matrix by 10\r\n"
   ],
   "outputs": [],
   "metadata": {}
  }
 ],
 "metadata": {
  "orig_nbformat": 4,
  "language_info": {
   "name": "python",
   "version": "3.9.7",
   "mimetype": "text/x-python",
   "codemirror_mode": {
    "name": "ipython",
    "version": 3
   },
   "pygments_lexer": "ipython3",
   "nbconvert_exporter": "python",
   "file_extension": ".py"
  },
  "kernelspec": {
   "name": "python3",
   "display_name": "Python 3.9.7 64-bit (windows store)"
  },
  "interpreter": {
   "hash": "a3a414d9c9a2ef5caa6e540b8b29aac8b582a9a1bd1c746cfbbc1702290c38c1"
  }
 },
 "nbformat": 4,
 "nbformat_minor": 2
}