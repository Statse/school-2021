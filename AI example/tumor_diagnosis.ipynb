{
 "cells": [
  {
   "cell_type": "code",
   "execution_count": 230,
   "metadata": {},
   "outputs": [],
   "source": [
    "from sklearn.datasets import load_breast_cancer\n",
    "import matplotlib.pyplot as plt\n",
    "import numpy as np\n",
    "from sklearn.model_selection import train_test_split\n",
    "from sklearn.neighbors import KNeighborsClassifier\n",
    "from sklearn.neural_network import MLPClassifier\n",
    "cancer = load_breast_cancer()\n",
    "#print(\"cancer.keys():\\n\", cancer.keys())\n",
    "#print(\"Feature names:\\n\", cancer.feature_names)\n",
    "# print(cancer.target)"
   ]
  },
  {
   "cell_type": "code",
   "execution_count": 233,
   "metadata": {},
   "outputs": [
    {
     "name": "stdout",
     "output_type": "stream",
     "text": [
      "Accuracy on training set: 0.93\n",
      "Accuracy on test set: 0.94\n"
     ]
    }
   ],
   "source": [
    "#Method 1: data is not normalized\n",
    "#divide data to test and train groups\n",
    "X_train, X_test, y_train, y_test = train_test_split(cancer.data, cancer.target, random_state = 0,train_size = 0.75)\n",
    "\n",
    "#definition of neural network\n",
    "mlp = MLPClassifier()\n",
    "\n",
    "#train the neural network\n",
    "mlp.fit(X_train, y_train)\n",
    "print(\"Accuracy on training set: {:.2f}\".format(mlp.score(X_train, y_train)))\n",
    "print(\"Accuracy on test set: {:.2f}\".format(mlp.score(X_test, y_test)))"
   ]
  },
  {
   "cell_type": "code",
   "execution_count": 237,
   "metadata": {},
   "outputs": [
    {
     "name": "stdout",
     "output_type": "stream",
     "text": [
      "Accuracy on training set: 0.993\n",
      "Accuracy on test set: 0.958\n",
      "0.958041958041958\n",
      "0.993006993006993\n"
     ]
    },
    {
     "name": "stderr",
     "output_type": "stream",
     "text": [
      "C:\\Users\\aleks\\AppData\\Local\\Packages\\PythonSoftwareFoundation.Python.3.9_qbz5n2kfra8p0\\LocalCache\\local-packages\\Python39\\site-packages\\sklearn\\neural_network\\_multilayer_perceptron.py:692: ConvergenceWarning: Stochastic Optimizer: Maximum iterations (200) reached and the optimization hasn't converged yet.\n",
      "  warnings.warn(\n"
     ]
    }
   ],
   "source": [
    "#Method 2: normalized data\n",
    "mean_on_train = X_train.mean(axis=0)\n",
    "std_on_train = X_train.std(axis=0)\n",
    "X_train_scaled = (X_train - mean_on_train) / std_on_train\n",
    "X_test_scaled = (X_test - mean_on_train) / std_on_train\n",
    "\n",
    "mlp = MLPClassifier()\n",
    "mlp.fit(X_train_scaled, y_train)\n",
    "\n",
    "print(\"Accuracy on training set: {:.3f}\".format(mlp.score(X_train_scaled, y_train)))\n",
    "print(\"Accuracy on test set: {:.3f}\".format(mlp.score(X_test_scaled, y_test)))\n",
    "\n",
    "# Production code\n",
    "\n",
    "pred_res = mlp.predict(X_test_scaled)\n",
    "pred_prob = mlp.predict_proba(X_test_scaled)\n",
    "\n",
    "score_calc = 1-np.sum(np.abs(pred_res-y_test))/len(y_test)\n",
    "# print(pred_res)\n",
    "# print(y_test)\n",
    "\n",
    "# score_calc_lim = 1-np.sum(np.abs(pred_res-y_test))/len(y_test) - y_test[np.max(pred_prob, axis = 1)>0.9]\n",
    "\n",
    "score_calc_lim = 1-np.sum(abs(pred_res[np.max(pred_prob, axis = 1) > .9] - y_test[np.max(pred_prob, axis = 1) > .9]))/len(y_test)\n",
    "\n",
    "\n",
    "print(score_calc)\n",
    "print(score_calc_lim)\n"
   ]
  }
 ],
 "metadata": {
  "interpreter": {
   "hash": "a3a414d9c9a2ef5caa6e540b8b29aac8b582a9a1bd1c746cfbbc1702290c38c1"
  },
  "kernelspec": {
   "display_name": "Python 3.9.7 64-bit (windows store)",
   "name": "python3"
  },
  "language_info": {
   "codemirror_mode": {
    "name": "ipython",
    "version": 3
   },
   "file_extension": ".py",
   "mimetype": "text/x-python",
   "name": "python",
   "nbconvert_exporter": "python",
   "pygments_lexer": "ipython3",
   "version": "3.9.7"
  },
  "orig_nbformat": 4
 },
 "nbformat": 4,
 "nbformat_minor": 2
}
